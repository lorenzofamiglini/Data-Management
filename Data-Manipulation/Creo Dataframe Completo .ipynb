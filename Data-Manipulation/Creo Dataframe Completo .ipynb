{
 "cells": [
  {
   "cell_type": "markdown",
   "metadata": {},
   "source": [
    "In questo notebook viene creato il dataframe \"completo\""
   ]
  },
  {
   "cell_type": "code",
   "execution_count": 1,
   "metadata": {},
   "outputs": [],
   "source": [
    "import pandas as pd\n",
    "import numpy as np"
   ]
  },
  {
   "cell_type": "code",
   "execution_count": 40,
   "metadata": {},
   "outputs": [],
   "source": [
    "dftomato = pd.read_csv(r\"dftomato.csv\")\n",
    "dffinale = pd.read_csv(r\"dffinale.csv\")\n",
    "dfrating = pd.read_csv(r\"netagg_rating_clean\")"
   ]
  },
  {
   "cell_type": "code",
   "execution_count": 41,
   "metadata": {},
   "outputs": [
    {
     "name": "stdout",
     "output_type": "stream",
     "text": [
      "<class 'pandas.core.frame.DataFrame'>\n",
      "RangeIndex: 14545 entries, 0 to 14544\n",
      "Data columns (total 12 columns):\n",
      "Id              14545 non-null int64\n",
      "Movie           14545 non-null object\n",
      "Year            14545 non-null int64\n",
      "tconst          14545 non-null object\n",
      "actors          14063 non-null object\n",
      "awards          14063 non-null object\n",
      "director        12869 non-null object\n",
      "genre           14263 non-null object\n",
      "index           14545 non-null object\n",
      "metascore       3882 non-null float64\n",
      "tomato_meter    30 non-null float64\n",
      "writer          12110 non-null object\n",
      "dtypes: float64(2), int64(2), object(8)\n",
      "memory usage: 1.3+ MB\n"
     ]
    }
   ],
   "source": [
    "dffinale.info()"
   ]
  },
  {
   "cell_type": "code",
   "execution_count": 42,
   "metadata": {},
   "outputs": [
    {
     "name": "stdout",
     "output_type": "stream",
     "text": [
      "<class 'pandas.core.frame.DataFrame'>\n",
      "RangeIndex: 7371 entries, 0 to 7370\n",
      "Data columns (total 2 columns):\n",
      "rating    7371 non-null int64\n",
      "tconst    7371 non-null object\n",
      "dtypes: int64(1), object(1)\n",
      "memory usage: 115.2+ KB\n"
     ]
    }
   ],
   "source": [
    "dftomato.info()"
   ]
  },
  {
   "cell_type": "code",
   "execution_count": 43,
   "metadata": {},
   "outputs": [
    {
     "name": "stdout",
     "output_type": "stream",
     "text": [
      "<class 'pandas.core.frame.DataFrame'>\n",
      "RangeIndex: 480189 entries, 0 to 480188\n",
      "Data columns (total 4 columns):\n",
      "id_Net        480189 non-null int64\n",
      "avg_ratNet    480189 non-null float64\n",
      "std_devNet    480189 non-null float64\n",
      "count_Net     480189 non-null int64\n",
      "dtypes: float64(2), int64(2)\n",
      "memory usage: 14.7 MB\n"
     ]
    }
   ],
   "source": [
    "dfrating.info()"
   ]
  },
  {
   "cell_type": "code",
   "execution_count": 53,
   "metadata": {},
   "outputs": [
    {
     "data": {
      "text/plain": [
       "False    480189\n",
       "Name: id_Net, dtype: int64"
      ]
     },
     "execution_count": 53,
     "metadata": {},
     "output_type": "execute_result"
    }
   ],
   "source": [
    "a=dfrating['id_Net'].value_counts()>1\n",
    "a.value_counts()"
   ]
  },
  {
   "cell_type": "code",
   "execution_count": 13,
   "metadata": {},
   "outputs": [],
   "source": [
    "dfcompleto = dfrating.merge(dffinale, left_on = ['_id'], right_on = ['Id'])"
   ]
  },
  {
   "cell_type": "code",
   "execution_count": 14,
   "metadata": {},
   "outputs": [
    {
     "name": "stdout",
     "output_type": "stream",
     "text": [
      "<class 'pandas.core.frame.DataFrame'>\n",
      "Int64Index: 2601 entries, 0 to 2600\n",
      "Data columns (total 16 columns):\n",
      "_id             2601 non-null int64\n",
      "avgRating       2601 non-null float64\n",
      "StdDev          2601 non-null float64\n",
      "count           2601 non-null int64\n",
      "Id              2601 non-null int64\n",
      "Movie           2601 non-null object\n",
      "Year            2601 non-null int64\n",
      "tconst          2601 non-null object\n",
      "actors          2519 non-null object\n",
      "awards          2519 non-null object\n",
      "director        2275 non-null object\n",
      "genre           2556 non-null object\n",
      "index           2601 non-null object\n",
      "metascore       690 non-null float64\n",
      "tomato_meter    4 non-null float64\n",
      "writer          2150 non-null object\n",
      "dtypes: float64(4), int64(4), object(8)\n",
      "memory usage: 345.4+ KB\n"
     ]
    }
   ],
   "source": [
    "dfcompleto.info()"
   ]
  },
  {
   "cell_type": "code",
   "execution_count": null,
   "metadata": {},
   "outputs": [],
   "source": []
  }
 ],
 "metadata": {
  "kernelspec": {
   "display_name": "Python 3",
   "language": "python",
   "name": "python3"
  },
  "language_info": {
   "codemirror_mode": {
    "name": "ipython",
    "version": 3
   },
   "file_extension": ".py",
   "mimetype": "text/x-python",
   "name": "python",
   "nbconvert_exporter": "python",
   "pygments_lexer": "ipython3",
   "version": "3.6.5"
  }
 },
 "nbformat": 4,
 "nbformat_minor": 2
}

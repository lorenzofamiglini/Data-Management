{
 "cells": [
  {
   "cell_type": "markdown",
   "metadata": {},
   "source": [
    "In questo notebook vengono preparati i dati per le visualizzazioni sui questionari psicometrici"
   ]
  },
  {
   "cell_type": "code",
   "execution_count": 56,
   "metadata": {},
   "outputs": [],
   "source": [
    "import pandas as pd\n",
    "import numpy as np"
   ]
  },
  {
   "cell_type": "code",
   "execution_count": 4,
   "metadata": {},
   "outputs": [],
   "source": [
    "df = pd.read_csv(r\"Task-Questionario-psicometrico.csv\", sep=\";\")"
   ]
  },
  {
   "cell_type": "code",
   "execution_count": 44,
   "metadata": {},
   "outputs": [],
   "source": [
    "df = df.rename(columns={'Utile': 'Utile-Viz1', 'Intuitiva': 'Intuitiva-Viz1', 'Chiara': 'Chiara-Viz1','Informativa': 'Informativa-Viz1', 'Bella': 'Bella-Viz1', 'Valore complessivo':'Valore complessivo-Viz1', 'Utile.1': 'Utile-Viz2', 'Intuitiva.1': 'Intuitiva-Viz2', 'Chiara.1': 'Chiara-Viz2','Informativa.1': 'Informativa-Viz2', 'Bella.1': 'Bella-Viz2', 'Valore complessivo.1':'Valore complessivo-Viz2', 'Utile.2': 'Utile-Viz3', 'Intuitiva.2': 'Intuitiva-Viz3', 'Chiara.2': 'Chiara-Viz3','Informativa.2': 'Informativa-Viz3', 'Bella.2': 'Bella-Viz3', 'Valore complessivo.2':'Valore complessivo-Viz3'})"
   ]
  },
  {
   "cell_type": "code",
   "execution_count": 47,
   "metadata": {},
   "outputs": [],
   "source": [
    "df = df.loc[:, 'Utile-Viz1':'Valore complessivo-Viz3']"
   ]
  },
  {
   "cell_type": "code",
   "execution_count": 50,
   "metadata": {},
   "outputs": [],
   "source": [
    "df = pd.melt(df)"
   ]
  },
  {
   "cell_type": "code",
   "execution_count": 57,
   "metadata": {},
   "outputs": [],
   "source": [
    "df.to_csv(\"Task-questionario-sistemato.csv\", index=False)"
   ]
  }
 ],
 "metadata": {
  "kernelspec": {
   "display_name": "Python 3",
   "language": "python",
   "name": "python3"
  },
  "language_info": {
   "codemirror_mode": {
    "name": "ipython",
    "version": 3
   },
   "file_extension": ".py",
   "mimetype": "text/x-python",
   "name": "python",
   "nbconvert_exporter": "python",
   "pygments_lexer": "ipython3",
   "version": "3.6.5"
  }
 },
 "nbformat": 4,
 "nbformat_minor": 2
}
